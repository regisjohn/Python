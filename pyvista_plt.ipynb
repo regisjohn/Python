{
 "cells": [
  {
   "cell_type": "code",
   "execution_count": 1,
   "metadata": {},
   "outputs": [
    {
     "name": "stdout",
     "output_type": "stream",
     "text": [
      "Module multiread imported!\n"
     ]
    }
   ],
   "source": [
    "import numpy as np\n",
    "import matplotlib.pyplot as plt\n",
    "import scienceplots\n",
    "from multiread import multiread\n",
    "# plt.style.use('science') # this doesn't work since latex is not found!\n",
    "plt.style.use(['science','no-latex'])\n",
    "from scipy.ndimage import gaussian_filter\n",
    "import pyvista as pv"
   ]
  },
  {
   "cell_type": "code",
   "execution_count": 2,
   "metadata": {},
   "outputs": [],
   "source": [
    "pv.set_plot_theme('paraview')"
   ]
  },
  {
   "cell_type": "code",
   "execution_count": null,
   "metadata": {},
   "outputs": [],
   "source": [
    "import numpy as np\n",
    "\n",
    "# Example synthetic data (replace with your real data)\n",
    "nx, ny, nz = 50, 50, 50\n",
    "x = np.linspace(-5, 5, nx)\n",
    "y = np.linspace(-5, 5, ny)\n",
    "z = np.linspace(-5, 5, nz)\n",
    "X, Y, Z = np.meshgrid(x, y, z, indexing=\"xy\")\n",
    "\n",
    "bx = -Y\n",
    "by = X\n",
    "bz = np.zeros_like(X)\n",
    "jz = np.exp(-X**2 - Y**2 - Z**2)  # Example current density peak at center\n",
    "\n",
    "# Create the uniform grid\n",
    "grid = pv.ImageData()\n",
    "grid.dimensions = bx.shape\n",
    "grid.origin = (x[0], y[0], z[0])\n",
    "grid.spacing = (x[1]-x[0], y[1]-y[0], z[1]-z[0])\n",
    "\n",
    "# Add magnetic field vectors\n",
    "b_field = np.stack((bx, by, bz), axis=-1)\n",
    "grid[\"B\"] = b_field.reshape(-1, 3)\n",
    "\n",
    "# Add Jz scalar field for volume rendering\n",
    "grid[\"Jz\"] = jz.flatten()\n",
    "\n",
    "# Create streamlines of magnetic field\n",
    "streamlines = grid.streamlines(\"B\", source_center=(0, 0, 0), n_points=100, max_time=100.0)\n",
    "\n",
    "# Plotting\n",
    "plotter = pv.Plotter(window_size=[800, 600])\n",
    "# plotter.set_scale(xscale=1, yscale=2, zscale=1)\n",
    "plotter.add_volume(grid, scalars=\"Jz\", opacity=\"sigmoid\", cmap=\"gist_heat\", show_scalar_bar=True)\n",
    "# plotter.add_volume(grid, scalars=\"Jz\", cmap=\"gist_heat\", opacity=\"sigmoid\", show_scalar_bar=True, scalar_bar_args={\"vertical\": True})\n",
    "plotter.add_mesh(streamlines, color=\"cyan\", line_width=2)\n",
    "# plotter.camera_position = 'iso'\n",
    "plotter.view_isometric()\n",
    "plotter.camera.zoom(1.75)  # or higher like 2.0 to zoom in more\n",
    "plotter.show()"
   ]
  },
  {
   "cell_type": "code",
   "execution_count": 3,
   "metadata": {},
   "outputs": [
    {
     "data": {
      "text/plain": [
       "'/Users/emmanuelmacb/Library/CloudStorage/OneDrive-WestVirginiaUniversity/3 - Resources/3.96 - Custom Modules n Functions/Python'"
      ]
     },
     "execution_count": 3,
     "metadata": {},
     "output_type": "execute_result"
    }
   ],
   "source": [
    "pwd"
   ]
  },
  {
   "cell_type": "code",
   "execution_count": 4,
   "metadata": {},
   "outputs": [
    {
     "name": "stdout",
     "output_type": "stream",
     "text": [
      "/Volumes/Samsung T7\n"
     ]
    }
   ],
   "source": [
    "cd '/Volumes/Samsung T7'"
   ]
  },
  {
   "cell_type": "code",
   "execution_count": 5,
   "metadata": {},
   "outputs": [
    {
     "name": "stdout",
     "output_type": "stream",
     "text": [
      "/Volumes/Samsung T7/run207_23\n"
     ]
    }
   ],
   "source": [
    "cd run207_23/"
   ]
  },
  {
   "cell_type": "code",
   "execution_count": 6,
   "metadata": {},
   "outputs": [],
   "source": [
    "st_slice = 0\n",
    "en_slice = 0\n",
    "skip_slice = 1"
   ]
  },
  {
   "cell_type": "code",
   "execution_count": 12,
   "metadata": {},
   "outputs": [
    {
     "name": "stdout",
     "output_type": "stream",
     "text": [
      "\n",
      "Initial metadata read from : bx_20723.mov!\n",
      "nx=512, ny=1024, nz=512, dx=0.048828, dy=0.048828, dz=0.048828\n",
      "\n",
      "Total Times slices run from 0 to 350\n",
      "\n",
      "Loading time slices from 0 to 0 in steps of 1\n",
      "............\n",
      "frame = 0 read!\n",
      "............\n",
      "frame = 0 read!\n",
      "............\n",
      "frame = 0 read!\n",
      "............\n",
      "frame = 0 read!\n",
      "............\n",
      "frame = 0 read!\n",
      "............\n",
      "frame = 0 read!\n",
      "\n",
      "The keys to access the fields in the data are: \n",
      "dict_keys(['bx', 'by', 'bz', 'curx', 'cury', 'curz', 'x', 'y', 'z', 'nx', 'ny', 'nz', 'dx', 'dy', 'dz', 'dtime', 'time_slice', 'tot_timeslices', 'var_names'])\n",
      "Each field variable has 351 time slices.\n"
     ]
    }
   ],
   "source": [
    "data = multiread(20723,'bx, by, bz, curx, cury, curz',st_slice,en_slice,skip_slice,plane='xyz')"
   ]
  },
  {
   "cell_type": "code",
   "execution_count": 13,
   "metadata": {},
   "outputs": [],
   "source": [
    "bx = data['bx'].T\n",
    "by = data['by'].T\n",
    "bz = data['bz'].T\n",
    "# curx = data['curx'].T\n",
    "cury = data['cury'].T\n",
    "# curz = data['curz'].T\n",
    "x = data['x']\n",
    "y = data['y']\n",
    "z = data['z']\n",
    "dx = data['dx']\n",
    "dy = data['dy']\n",
    "dz = data['dz']"
   ]
  },
  {
   "cell_type": "code",
   "execution_count": 14,
   "metadata": {},
   "outputs": [],
   "source": [
    "del data"
   ]
  },
  {
   "cell_type": "code",
   "execution_count": 15,
   "metadata": {},
   "outputs": [
    {
     "data": {
      "application/vnd.jupyter.widget-view+json": {
       "model_id": "3937599d7d2f4e3a9b37d0beb03e20da",
       "version_major": 2,
       "version_minor": 0
      },
      "text/plain": [
       "Widget(value='<iframe src=\"http://localhost:56242/index.html?ui=P_0x92a4818e0_0&reconnect=auto\" class=\"pyvista…"
      ]
     },
     "metadata": {},
     "output_type": "display_data"
    }
   ],
   "source": [
    "import numpy as np\n",
    "\n",
    "# Example synthetic data (replace with your real data)\n",
    "X, Y, Z = np.meshgrid(x, y, z, indexing=\"xy\")\n",
    "\n",
    "# Create the uniform grid\n",
    "grid = pv.ImageData()\n",
    "grid.dimensions = bx.shape\n",
    "grid.origin = (x[0], y[0], z[0])\n",
    "grid.spacing = (dx, dy, dz)\n",
    "\n",
    "# Add magnetic field vectors\n",
    "by = np.zeros_like(bz)\n",
    "b_field = np.stack((bx, by, bz), axis=-1)\n",
    "grid[\"B\"] = b_field.reshape(-1, 3)\n",
    "\n",
    "# Add Jz scalar field for volume rendering\n",
    "grid[\"Jz\"] = cury.flatten()\n",
    "\n",
    "# Create streamlines of magnetic field\n",
    "streamlines = grid.streamlines(\"B\", source_center=(0, 0, 0), source_radius=25.0, n_points=200, max_time=50.0)\n",
    "\n",
    "# n_stmlines = 50\n",
    "# # Streamline from center (or other points of interest)\n",
    "# streamlines_center = grid.streamlines(\"B\", source_center=(0, 0, 0), n_points=n_stmlines, max_time=50.0)\n",
    "\n",
    "# # Streamline from another source (e.g., x_min, y_min, z_min)\n",
    "# streamlines_corner1 = grid.streamlines(\"B\", source_center=(0, -20, 0), n_points=n_stmlines, max_time=50.0)\n",
    "\n",
    "# # Streamline from another source (e.g., x_max, y_max, z_max)\n",
    "# streamlines_corner2 = grid.streamlines(\"B\", source_center=(0, 20, 0), n_points=n_stmlines, max_time=50.0)\n",
    "\n",
    "# streamlines = streamlines_center + streamlines_corner1 + streamlines_corner2\n",
    "\n",
    "# Plotting\n",
    "plotter = pv.Plotter(window_size=[800, 600])\n",
    "# plotter.set_scale(xscale=1, yscale=2, zscale=1)\n",
    "plotter.add_volume(grid, scalars=\"Jz\", opacity=\"sigmoid\", cmap=\"gist_heat\", show_scalar_bar=True)\n",
    "# plotter.add_volume(grid, scalars=\"Jz\", cmap=\"gist_heat\", opacity=\"sigmoid\", show_scalar_bar=True, scalar_bar_args={\"vertical\": True})\n",
    "plotter.add_mesh(streamlines, cmap=\"viridis\", line_width=2)\n",
    "# plotter.camera_position = 'iso'\n",
    "plotter.add_bounding_box()\n",
    "# plotter.show_axes()\n",
    "plotter.add_axes(line_width=5, xlabel=\"X\", ylabel=\"Z\", zlabel=\"-Y\")\n",
    "plotter.view_isometric()\n",
    "plotter.camera.zoom(1.75)  # or higher like 2.0 to zoom in more\n",
    "plotter.show()"
   ]
  },
  {
   "cell_type": "code",
   "execution_count": 14,
   "metadata": {},
   "outputs": [],
   "source": [
    "plotter.save_graphic(\"plot.pdf\") "
   ]
  },
  {
   "cell_type": "code",
   "execution_count": 11,
   "metadata": {},
   "outputs": [],
   "source": [
    "plotter.close()"
   ]
  },
  {
   "cell_type": "code",
   "execution_count": null,
   "metadata": {},
   "outputs": [],
   "source": []
  }
 ],
 "metadata": {
  "kernelspec": {
   "display_name": "phy",
   "language": "python",
   "name": "python3"
  },
  "language_info": {
   "codemirror_mode": {
    "name": "ipython",
    "version": 3
   },
   "file_extension": ".py",
   "mimetype": "text/x-python",
   "name": "python",
   "nbconvert_exporter": "python",
   "pygments_lexer": "ipython3",
   "version": "3.12.2"
  }
 },
 "nbformat": 4,
 "nbformat_minor": 2
}
