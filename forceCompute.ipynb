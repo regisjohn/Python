{
 "cells": [
  {
   "cell_type": "markdown",
   "metadata": {},
   "source": [
    "# Reading Data"
   ]
  },
  {
   "cell_type": "code",
   "execution_count": 1,
   "metadata": {},
   "outputs": [],
   "source": [
    "import numpy as np\n",
    "import matplotlib.pyplot as plt\n",
    "import os\n",
    "from scipy.ndimage import gaussian_filter"
   ]
  },
  {
   "cell_type": "code",
   "execution_count": 2,
   "metadata": {},
   "outputs": [],
   "source": [
    "outdir = 'Combined_forceplots_v2'\n",
    "w0 = 1.0\n",
    "path_prefix = '/Users/emmanuelmacb/Library/CloudStorage/OneDrive-WestVirginiaUniversity/1 - Active Projects/1.01 - Fluid Simulations/1.01A - Fluid Project Updates/rundata/'\n",
    "run_nos = ['25024','255','256','257','258']\n",
    "final_path = [f'{path_prefix}/run{run_nos[i]}' for i in range(len(run_nos))]\n",
    "dat = []\n",
    "for i in range(len(run_nos)):\n",
    "    os.chdir(final_path[i])\n",
    "    if i == 0:\n",
    "        dat_ax = np.load(f'{run_nos[i]}_axes.npz')\n",
    "    dat.append(np.load(f'{run_nos[i]}_t0.npz'))"
   ]
  },
  {
   "cell_type": "markdown",
   "metadata": {},
   "source": [
    "# Extracting Data of Run 25024 - 375 G"
   ]
  },
  {
   "cell_type": "code",
   "execution_count": 3,
   "metadata": {},
   "outputs": [],
   "source": [
    "xx = dat_ax['xx']\n",
    "yy = dat_ax['yy']\n",
    "zz = dat_ax['zz']\n",
    "bx_375_t0 = dat[0]['bx_25024']\n",
    "by_375_t0 = dat[0]['by_25024']\n",
    "bz_375_t0 = dat[0]['bz_25024']\n",
    "dx_375_t0 = dat[0]['dx_25024']\n",
    "dy_375_t0 = dat[0]['dy_25024']\n",
    "dz_375_t0 = dat[0]['dz_25024']"
   ]
  },
  {
   "cell_type": "code",
   "execution_count": 4,
   "metadata": {},
   "outputs": [],
   "source": [
    "os.chdir(final_path[0])"
   ]
  },
  {
   "cell_type": "markdown",
   "metadata": {},
   "source": [
    "## Computing Forces of Run 25024 - 375 G"
   ]
  },
  {
   "cell_type": "code",
   "execution_count": 5,
   "metadata": {},
   "outputs": [],
   "source": [
    "dBx_dx_375_t0, dBx_dy_375_t0, dBx_dz_375_t0 = np.gradient(bx_375_t0, dx_375_t0, dy_375_t0, dz_375_t0)\n",
    "dBy_dx_375_t0, dBy_dy_375_t0, dBy_dz_375_t0 = np.gradient(by_375_t0, dx_375_t0, dy_375_t0, dz_375_t0)\n",
    "dBz_dx_375_t0, dBz_dy_375_t0, dBz_dz_375_t0 = np.gradient(bz_375_t0, dx_375_t0, dy_375_t0, dz_375_t0)"
   ]
  },
  {
   "cell_type": "code",
   "execution_count": 6,
   "metadata": {},
   "outputs": [],
   "source": [
    "fx_375_t0 = bz_375_t0*dBx_dz_375_t0 - bz_375_t0*dBz_dx_375_t0 - by_375_t0*dBy_dx_375_t0 + by_375_t0*dBx_dy_375_t0\n",
    "fy_375_t0 = bx_375_t0*dBy_dx_375_t0 - bx_375_t0*dBx_dy_375_t0 - bz_375_t0*dBz_dy_375_t0 + bz_375_t0*dBy_dz_375_t0\n",
    "fz_375_t0 = by_375_t0*dBz_dy_375_t0 - by_375_t0*dBy_dz_375_t0 - bx_375_t0*dBx_dz_375_t0 + bx_375_t0*dBz_dx_375_t0"
   ]
  },
  {
   "cell_type": "code",
   "execution_count": 7,
   "metadata": {},
   "outputs": [],
   "source": [
    "fx_375_t0 = gaussian_filter(fx_375_t0, sigma=2)\n",
    "fy_375_t0 = gaussian_filter(fy_375_t0, sigma=2)\n",
    "fz_375_t0 = gaussian_filter(fz_375_t0, sigma=2)"
   ]
  },
  {
   "cell_type": "code",
   "execution_count": 8,
   "metadata": {},
   "outputs": [],
   "source": [
    "os.makedirs(outdir, exist_ok=True)\n",
    "np.savez(f'{outdir}/f_375_t0.npz', fx_375_t0=fx_375_t0, fy_375_t0=fy_375_t0, fz_375_t0=fz_375_t0)"
   ]
  },
  {
   "cell_type": "code",
   "execution_count": 9,
   "metadata": {},
   "outputs": [],
   "source": [
    "del bx_375_t0, by_375_t0, bz_375_t0, dBx_dx_375_t0, dBx_dy_375_t0, dBx_dz_375_t0, dBy_dx_375_t0, dBy_dy_375_t0, dBy_dz_375_t0, dBz_dx_375_t0, dBz_dy_375_t0, dBz_dz_375_t0, fx_375_t0, fy_375_t0, fz_375_t0"
   ]
  },
  {
   "cell_type": "markdown",
   "metadata": {},
   "source": [
    "# Extracting Data of Run 255 - 225 G"
   ]
  },
  {
   "cell_type": "code",
   "execution_count": 11,
   "metadata": {},
   "outputs": [],
   "source": [
    "bx_225_t0 = dat[1]['bx_255']\n",
    "by_225_t0 = dat[1]['by_255']\n",
    "bz_225_t0 = dat[1]['bz_255']\n",
    "dx_225_t0 = dat[1]['dx_255']\n",
    "dy_225_t0 = dat[1]['dy_255']\n",
    "dz_225_t0 = dat[1]['dz_255']"
   ]
  },
  {
   "cell_type": "markdown",
   "metadata": {},
   "source": [
    "## Computing Forces of Run 255- 225 G"
   ]
  },
  {
   "cell_type": "code",
   "execution_count": 12,
   "metadata": {},
   "outputs": [],
   "source": [
    "dBx_dx_225_t0, dBx_dy_225_t0, dBx_dz_225_t0 = np.gradient(bx_225_t0, dx_225_t0, dy_225_t0, dz_225_t0)\n",
    "dBy_dx_225_t0, dBy_dy_225_t0, dBy_dz_225_t0 = np.gradient(by_225_t0, dx_225_t0, dy_225_t0, dz_225_t0)\n",
    "dBz_dx_225_t0, dBz_dy_225_t0, dBz_dz_225_t0 = np.gradient(bz_225_t0, dx_225_t0, dy_225_t0, dz_225_t0)"
   ]
  },
  {
   "cell_type": "code",
   "execution_count": 13,
   "metadata": {},
   "outputs": [],
   "source": [
    "fx_225_t0 = bz_225_t0*dBx_dz_225_t0 - bz_225_t0*dBz_dx_225_t0 - by_225_t0*dBy_dx_225_t0 + by_225_t0*dBx_dy_225_t0\n",
    "fy_225_t0 = bx_225_t0*dBy_dx_225_t0 - bx_225_t0*dBx_dy_225_t0 - bz_225_t0*dBz_dy_225_t0 + bz_225_t0*dBy_dz_225_t0\n",
    "fz_225_t0 = by_225_t0*dBz_dy_225_t0 - by_225_t0*dBy_dz_225_t0 - bx_225_t0*dBx_dz_225_t0 + bx_225_t0*dBz_dx_225_t0"
   ]
  },
  {
   "cell_type": "code",
   "execution_count": 14,
   "metadata": {},
   "outputs": [],
   "source": [
    "fx_225_t0 = gaussian_filter(fx_225_t0, sigma=2)\n",
    "fy_225_t0 = gaussian_filter(fy_225_t0, sigma=2)\n",
    "fz_225_t0 = gaussian_filter(fz_225_t0, sigma=2)"
   ]
  },
  {
   "cell_type": "code",
   "execution_count": 15,
   "metadata": {},
   "outputs": [],
   "source": [
    "os.makedirs(outdir, exist_ok=True)\n",
    "np.savez(f'{outdir}/f_225_t0.npz', fx_225_t0=fx_225_t0, fy_225_t0=fy_225_t0, fz_225_t0=fz_225_t0)"
   ]
  },
  {
   "cell_type": "code",
   "execution_count": 16,
   "metadata": {},
   "outputs": [],
   "source": [
    "del bx_225_t0, by_225_t0, bz_225_t0, dBx_dx_225_t0, dBx_dy_225_t0, dBx_dz_225_t0, dBy_dx_225_t0, dBy_dy_225_t0, dBy_dz_225_t0, dBz_dx_225_t0, dBz_dy_225_t0, dBz_dz_225_t0, fx_225_t0, fy_225_t0, fz_225_t0"
   ]
  },
  {
   "cell_type": "markdown",
   "metadata": {},
   "source": [
    "# Extracting Data of Run 256 - 150 G"
   ]
  },
  {
   "cell_type": "code",
   "execution_count": 18,
   "metadata": {},
   "outputs": [],
   "source": [
    "bx_150_t0 = dat[2]['bx_256']\n",
    "by_150_t0 = dat[2]['by_256']\n",
    "bz_150_t0 = dat[2]['bz_256']\n",
    "dx_150_t0 = dat[2]['dx_256']\n",
    "dy_150_t0 = dat[2]['dy_256']\n",
    "dz_150_t0 = dat[2]['dz_256']"
   ]
  },
  {
   "cell_type": "markdown",
   "metadata": {},
   "source": [
    "## Computing Forces of Run 256- 150 G"
   ]
  },
  {
   "cell_type": "code",
   "execution_count": 19,
   "metadata": {},
   "outputs": [],
   "source": [
    "dBx_dx_150_t0, dBx_dy_150_t0, dBx_dz_150_t0 = np.gradient(bx_150_t0, dx_150_t0, dy_150_t0, dz_150_t0)\n",
    "dBy_dx_150_t0, dBy_dy_150_t0, dBy_dz_150_t0 = np.gradient(by_150_t0, dx_150_t0, dy_150_t0, dz_150_t0)\n",
    "dBz_dx_150_t0, dBz_dy_150_t0, dBz_dz_150_t0 = np.gradient(bz_150_t0, dx_150_t0, dy_150_t0, dz_150_t0)"
   ]
  },
  {
   "cell_type": "code",
   "execution_count": 20,
   "metadata": {},
   "outputs": [],
   "source": [
    "fx_150_t0 = bz_150_t0*dBx_dz_150_t0 - bz_150_t0*dBz_dx_150_t0 - by_150_t0*dBy_dx_150_t0 + by_150_t0*dBx_dy_150_t0\n",
    "fy_150_t0 = bx_150_t0*dBy_dx_150_t0 - bx_150_t0*dBx_dy_150_t0 - bz_150_t0*dBz_dy_150_t0 + bz_150_t0*dBy_dz_150_t0\n",
    "fz_150_t0 = by_150_t0*dBz_dy_150_t0 - by_150_t0*dBy_dz_150_t0 - bx_150_t0*dBx_dz_150_t0 + bx_150_t0*dBz_dx_150_t0"
   ]
  },
  {
   "cell_type": "code",
   "execution_count": 21,
   "metadata": {},
   "outputs": [],
   "source": [
    "fx_150_t0 = gaussian_filter(fx_150_t0, sigma=2)\n",
    "fy_150_t0 = gaussian_filter(fy_150_t0, sigma=2)\n",
    "fz_150_t0 = gaussian_filter(fz_150_t0, sigma=2)"
   ]
  },
  {
   "cell_type": "code",
   "execution_count": 22,
   "metadata": {},
   "outputs": [],
   "source": [
    "os.makedirs(outdir, exist_ok=True)\n",
    "np.savez(f'{outdir}/f_150_t0.npz', fx_150_t0=fx_150_t0, fy_150_t0=fy_150_t0, fz_150_t0=fz_150_t0)"
   ]
  },
  {
   "cell_type": "code",
   "execution_count": 23,
   "metadata": {},
   "outputs": [],
   "source": [
    "del bx_150_t0, by_150_t0, bz_150_t0, dBx_dx_150_t0, dBx_dy_150_t0, dBx_dz_150_t0, dBy_dx_150_t0, dBy_dy_150_t0, dBy_dz_150_t0, dBz_dx_150_t0, dBz_dy_150_t0, dBz_dz_150_t0, fx_150_t0, fy_150_t0, fz_150_t0"
   ]
  },
  {
   "cell_type": "code",
   "execution_count": null,
   "metadata": {},
   "outputs": [],
   "source": []
  },
  {
   "cell_type": "markdown",
   "metadata": {},
   "source": [
    "## Computing Forces of Run 255- 225 G"
   ]
  },
  {
   "cell_type": "code",
   "execution_count": null,
   "metadata": {},
   "outputs": [],
   "source": [
    "dBx_dx_225_t0, dBx_dy_225_t0, dBx_dz_225_t0 = np.gradient(bx_225_t0, dx_225_t0, dy_225_t0, dz_225_t0)\n",
    "dBy_dx_225_t0, dBy_dy_225_t0, dBy_dz_225_t0 = np.gradient(by_225_t0, dx_225_t0, dy_225_t0, dz_225_t0)\n",
    "dBz_dx_225_t0, dBz_dy_225_t0, dBz_dz_225_t0 = np.gradient(bz_225_t0, dx_225_t0, dy_225_t0, dz_225_t0)"
   ]
  },
  {
   "cell_type": "code",
   "execution_count": null,
   "metadata": {},
   "outputs": [],
   "source": [
    "fx_225_t0 = bz_225_t0*dBx_dz_225_t0 - bz_225_t0*dBz_dx_225_t0 - by_225_t0*dBy_dx_225_t0 + by_225_t0*dBx_dy_225_t0\n",
    "fy_225_t0 = bx_225_t0*dBy_dx_225_t0 - bx_225_t0*dBx_dy_225_t0 - bz_225_t0*dBz_dy_225_t0 + bz_225_t0*dBy_dz_225_t0\n",
    "fz_225_t0 = by_225_t0*dBz_dy_225_t0 - by_225_t0*dBy_dz_225_t0 - bx_225_t0*dBx_dz_225_t0 + bx_225_t0*dBz_dx_225_t0"
   ]
  },
  {
   "cell_type": "code",
   "execution_count": null,
   "metadata": {},
   "outputs": [],
   "source": [
    "fx_225_t0 = gaussian_filter(fx_225_t0, sigma=2)\n",
    "fy_225_t0 = gaussian_filter(fy_225_t0, sigma=2)\n",
    "fz_225_t0 = gaussian_filter(fz_225_t0, sigma=2)"
   ]
  },
  {
   "cell_type": "code",
   "execution_count": null,
   "metadata": {},
   "outputs": [],
   "source": [
    "os.makedirs(outdir, exist_ok=True)\n",
    "np.savez(f'{outdir}/f_225_t0.npz', fx_225_t0=fx_225_t0, fy_225_t0=fy_225_t0, fz_225_t0=fz_225_t0)"
   ]
  },
  {
   "cell_type": "code",
   "execution_count": null,
   "metadata": {},
   "outputs": [],
   "source": [
    "del bx_225_t0, by_225_t0, bz_225_t0, dBx_dx_225_t0, dBx_dy_225_t0, dBx_dz_225_t0, dBy_dx_225_t0, dBy_dy_225_t0, dBy_dz_225_t0, dBz_dx_225_t0, dBz_dy_225_t0, dBz_dz_225_t0, fx_225_t0, fy_225_t0, fz_225_t0"
   ]
  },
  {
   "cell_type": "markdown",
   "metadata": {},
   "source": [
    "# Extracting Data of Run 256 - 150 G"
   ]
  },
  {
   "cell_type": "code",
   "execution_count": null,
   "metadata": {},
   "outputs": [],
   "source": [
    "bx_150_t0 = dat[2]['bx_256']\n",
    "by_150_t0 = dat[2]['by_256']\n",
    "bz_150_t0 = dat[2]['bz_256']\n",
    "dx_150_t0 = dat[2]['dx_256']\n",
    "dy_150_t0 = dat[2]['dy_256']\n",
    "dz_150_t0 = dat[2]['dz_256']"
   ]
  },
  {
   "cell_type": "markdown",
   "metadata": {},
   "source": [
    "## Computing Forces of Run 256- 150 G"
   ]
  },
  {
   "cell_type": "code",
   "execution_count": null,
   "metadata": {},
   "outputs": [],
   "source": [
    "dBx_dx_150_t0, dBx_dy_150_t0, dBx_dz_150_t0 = np.gradient(bx_150_t0, dx_150_t0, dy_150_t0, dz_150_t0)\n",
    "dBy_dx_150_t0, dBy_dy_150_t0, dBy_dz_150_t0 = np.gradient(by_150_t0, dx_150_t0, dy_150_t0, dz_150_t0)\n",
    "dBz_dx_150_t0, dBz_dy_150_t0, dBz_dz_150_t0 = np.gradient(bz_150_t0, dx_150_t0, dy_150_t0, dz_150_t0)"
   ]
  },
  {
   "cell_type": "code",
   "execution_count": null,
   "metadata": {},
   "outputs": [],
   "source": [
    "fx_150_t0 = bz_150_t0*dBx_dz_150_t0 - bz_150_t0*dBz_dx_150_t0 - by_150_t0*dBy_dx_150_t0 + by_150_t0*dBx_dy_150_t0\n",
    "fy_150_t0 = bx_150_t0*dBy_dx_150_t0 - bx_150_t0*dBx_dy_150_t0 - bz_150_t0*dBz_dy_150_t0 + bz_150_t0*dBy_dz_150_t0\n",
    "fz_150_t0 = by_150_t0*dBz_dy_150_t0 - by_150_t0*dBy_dz_150_t0 - bx_150_t0*dBx_dz_150_t0 + bx_150_t0*dBz_dx_150_t0"
   ]
  },
  {
   "cell_type": "code",
   "execution_count": null,
   "metadata": {},
   "outputs": [],
   "source": [
    "fx_150_t0 = gaussian_filter(fx_150_t0, sigma=2)\n",
    "fy_150_t0 = gaussian_filter(fy_150_t0, sigma=2)\n",
    "fz_150_t0 = gaussian_filter(fz_150_t0, sigma=2)"
   ]
  },
  {
   "cell_type": "code",
   "execution_count": null,
   "metadata": {},
   "outputs": [],
   "source": [
    "os.makedirs(outdir, exist_ok=True)\n",
    "np.savez(f'{outdir}/f_150_t0.npz', fx_150_t0=fx_150_t0, fy_150_t0=fy_150_t0, fz_150_t0=fz_150_t0)"
   ]
  },
  {
   "cell_type": "code",
   "execution_count": null,
   "metadata": {},
   "outputs": [],
   "source": [
    "del bx_150_t0, by_150_t0, bz_150_t0, dBx_dx_150_t0, dBx_dy_150_t0, dBx_dz_150_t0, dBy_dx_150_t0, dBy_dy_150_t0, dBy_dz_150_t0, dBz_dx_150_t0, dBz_dy_150_t0, dBz_dz_150_t0, fx_150_t0, fy_150_t0, fz_150_t0"
   ]
  },
  {
   "cell_type": "markdown",
   "metadata": {},
   "source": [
    "# Extracting Data of Run 257 - 105 G"
   ]
  },
  {
   "cell_type": "code",
   "execution_count": 24,
   "metadata": {},
   "outputs": [],
   "source": [
    "bx_105_t0 = dat[3]['bx_257']\n",
    "by_105_t0 = dat[3]['by_257']\n",
    "bz_105_t0 = dat[3]['bz_257']\n",
    "dx_105_t0 = dat[3]['dx_257']\n",
    "dy_105_t0 = dat[3]['dy_257']\n",
    "dz_105_t0 = dat[3]['dz_257']"
   ]
  },
  {
   "cell_type": "markdown",
   "metadata": {},
   "source": [
    "## Computing Forces of Run 257- 105 G"
   ]
  },
  {
   "cell_type": "code",
   "execution_count": 25,
   "metadata": {},
   "outputs": [],
   "source": [
    "dBx_dx_105_t0, dBx_dy_105_t0, dBx_dz_105_t0 = np.gradient(bx_105_t0, dx_105_t0, dy_105_t0, dz_105_t0)\n",
    "dBy_dx_105_t0, dBy_dy_105_t0, dBy_dz_105_t0 = np.gradient(by_105_t0, dx_105_t0, dy_105_t0, dz_105_t0)\n",
    "dBz_dx_105_t0, dBz_dy_105_t0, dBz_dz_105_t0 = np.gradient(bz_105_t0, dx_105_t0, dy_105_t0, dz_105_t0)"
   ]
  },
  {
   "cell_type": "code",
   "execution_count": 26,
   "metadata": {},
   "outputs": [],
   "source": [
    "fx_105_t0 = bz_105_t0*dBx_dz_105_t0 - bz_105_t0*dBz_dx_105_t0 - by_105_t0*dBy_dx_105_t0 + by_105_t0*dBx_dy_105_t0\n",
    "fy_105_t0 = bx_105_t0*dBy_dx_105_t0 - bx_105_t0*dBx_dy_105_t0 - bz_105_t0*dBz_dy_105_t0 + bz_105_t0*dBy_dz_105_t0\n",
    "fz_105_t0 = by_105_t0*dBz_dy_105_t0 - by_105_t0*dBy_dz_105_t0 - bx_105_t0*dBx_dz_105_t0 + bx_105_t0*dBz_dx_105_t0"
   ]
  },
  {
   "cell_type": "code",
   "execution_count": 27,
   "metadata": {},
   "outputs": [],
   "source": [
    "fx_105_t0 = gaussian_filter(fx_105_t0, sigma=2)\n",
    "fy_105_t0 = gaussian_filter(fy_105_t0, sigma=2)\n",
    "fz_105_t0 = gaussian_filter(fz_105_t0, sigma=2)"
   ]
  },
  {
   "cell_type": "code",
   "execution_count": 28,
   "metadata": {},
   "outputs": [],
   "source": [
    "os.makedirs(outdir, exist_ok=True)\n",
    "np.savez(f'{outdir}/f_105_t0.npz', fx_105_t0=fx_105_t0, fy_105_t0=fy_105_t0, fz_105_t0=fz_105_t0)"
   ]
  },
  {
   "cell_type": "code",
   "execution_count": 29,
   "metadata": {},
   "outputs": [],
   "source": [
    "del bx_105_t0, by_105_t0, bz_105_t0, dBx_dx_105_t0, dBx_dy_105_t0, dBx_dz_105_t0, dBy_dx_105_t0, dBy_dy_105_t0"
   ]
  },
  {
   "cell_type": "code",
   "execution_count": 30,
   "metadata": {},
   "outputs": [],
   "source": [
    "del dBy_dz_105_t0, dBz_dx_105_t0, dBz_dy_105_t0, dBz_dz_105_t0, fx_105_t0, fy_105_t0, fz_105_t0"
   ]
  },
  {
   "cell_type": "markdown",
   "metadata": {},
   "source": [
    "# Extracting Data of Run 258 - 0 G"
   ]
  },
  {
   "cell_type": "code",
   "execution_count": 31,
   "metadata": {},
   "outputs": [],
   "source": [
    "bx_0_t0 = dat[4]['bx_258']\n",
    "by_0_t0 = dat[4]['by_258']\n",
    "bz_0_t0 = dat[4]['bz_258']\n",
    "dx_0_t0 = dat[4]['dx_258']\n",
    "dy_0_t0 = dat[4]['dy_258']\n",
    "dz_0_t0 = dat[4]['dz_258']"
   ]
  },
  {
   "cell_type": "markdown",
   "metadata": {},
   "source": [
    "## Computing Forces of Run 258 - 0 G"
   ]
  },
  {
   "cell_type": "code",
   "execution_count": 32,
   "metadata": {},
   "outputs": [],
   "source": [
    "dBx_dx_0_t0, dBx_dy_0_t0, dBx_dz_0_t0 = np.gradient(bx_0_t0, dx_0_t0, dy_0_t0, dz_0_t0)\n",
    "dBy_dx_0_t0, dBy_dy_0_t0, dBy_dz_0_t0 = np.gradient(by_0_t0, dx_0_t0, dy_0_t0, dz_0_t0)\n",
    "dBz_dx_0_t0, dBz_dy_0_t0, dBz_dz_0_t0 = np.gradient(bz_0_t0, dx_0_t0, dy_0_t0, dz_0_t0)"
   ]
  },
  {
   "cell_type": "code",
   "execution_count": 33,
   "metadata": {},
   "outputs": [],
   "source": [
    "fx_0_t0 = bz_0_t0*dBx_dz_0_t0 - bz_0_t0*dBz_dx_0_t0 - by_0_t0*dBy_dx_0_t0 + by_0_t0*dBx_dy_0_t0\n",
    "fy_0_t0 = bx_0_t0*dBy_dx_0_t0 - bx_0_t0*dBx_dy_0_t0 - bz_0_t0*dBz_dy_0_t0 + bz_0_t0*dBy_dz_0_t0\n",
    "fz_0_t0 = by_0_t0*dBz_dy_0_t0 - by_0_t0*dBy_dz_0_t0 - bx_0_t0*dBx_dz_0_t0 + bx_0_t0*dBz_dx_0_t0"
   ]
  },
  {
   "cell_type": "code",
   "execution_count": 34,
   "metadata": {},
   "outputs": [],
   "source": [
    "fx_0_t0 = gaussian_filter(fx_0_t0, sigma=2)\n",
    "fy_0_t0 = gaussian_filter(fy_0_t0, sigma=2)\n",
    "fz_0_t0 = gaussian_filter(fz_0_t0, sigma=2)"
   ]
  },
  {
   "cell_type": "code",
   "execution_count": 35,
   "metadata": {},
   "outputs": [],
   "source": [
    "os.makedirs(outdir, exist_ok=True)\n",
    "np.savez(f'{outdir}/f_0_t0.npz', fx_0_t0=fx_0_t0, fy_0_t0=fy_0_t0, fz_0_t0=fz_0_t0)"
   ]
  },
  {
   "cell_type": "code",
   "execution_count": 36,
   "metadata": {},
   "outputs": [],
   "source": [
    "del bx_0_t0, by_0_t0, bz_0_t0, dBx_dx_0_t0, dBx_dy_0_t0, dBx_dz_0_t0, dBy_dx_0_t0, dBy_dy_0_t0"
   ]
  },
  {
   "cell_type": "code",
   "execution_count": 37,
   "metadata": {},
   "outputs": [],
   "source": [
    "del dBy_dz_0_t0, dBz_dx_0_t0, dBz_dy_0_t0, dBz_dz_0_t0, fx_0_t0, fy_0_t0, fz_0_t0"
   ]
  },
  {
   "cell_type": "code",
   "execution_count": null,
   "metadata": {},
   "outputs": [],
   "source": []
  }
 ],
 "metadata": {
  "kernelspec": {
   "display_name": "phy",
   "language": "python",
   "name": "python3"
  },
  "language_info": {
   "codemirror_mode": {
    "name": "ipython",
    "version": 3
   },
   "file_extension": ".py",
   "mimetype": "text/x-python",
   "name": "python",
   "nbconvert_exporter": "python",
   "pygments_lexer": "ipython3",
   "version": "3.12.2"
  }
 },
 "nbformat": 4,
 "nbformat_minor": 2
}
