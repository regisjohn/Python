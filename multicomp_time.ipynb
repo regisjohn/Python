{
 "cells": [
  {
   "cell_type": "markdown",
   "metadata": {},
   "source": [
    "# Run 20723 -  375 G with 60 mm base separation"
   ]
  },
  {
   "cell_type": "code",
   "execution_count": 3,
   "metadata": {},
   "outputs": [],
   "source": [
    "import os"
   ]
  },
  {
   "cell_type": "code",
   "execution_count": 4,
   "metadata": {},
   "outputs": [],
   "source": [
    "path_to_20723 = '/Users/emmanuelmacb/Library/CloudStorage/OneDrive-WestVirginiaUniversity/1 - Active Projects/1.01 - Fluid Simulations/1.01A - Fluid Project Updates/rundata/run207_23'\n",
    "os.chdir(path_to_20723)"
   ]
  },
  {
   "cell_type": "code",
   "execution_count": 9,
   "metadata": {},
   "outputs": [],
   "source": [
    "dt_20723 = 6e-5 # time-step\n",
    "frames_20723 = np.arange(351) # create a linear array of length 351\n",
    "t_20723 = np.empty(351, dtype=float) # preallocating time array"
   ]
  },
  {
   "cell_type": "code",
   "execution_count": 10,
   "metadata": {},
   "outputs": [],
   "source": [
    "noutmov1 = 50 # 50 is for the 0 to 300 frames\n",
    "noutmov2 = 200 # 200 is for the last 50 frames from 301 to 350."
   ]
  },
  {
   "cell_type": "code",
   "execution_count": 11,
   "metadata": {},
   "outputs": [],
   "source": [
    "t_20723[0:301] = frames_20723[0:301]*noutmov1*dt_20723 # first 300 frames\n",
    "# we need to add this base to the last 50 frames from 301 to 350 (including 350)\n",
    "t_20723[301:351] = t_20723[300] + frames_20723[1:51]*noutmov2*dt_20723"
   ]
  },
  {
   "cell_type": "code",
   "execution_count": 12,
   "metadata": {},
   "outputs": [],
   "source": [
    "# save the time array to a .npy file\n",
    "np.save('time_20723.npy', t_20723)"
   ]
  },
  {
   "cell_type": "markdown",
   "metadata": {},
   "source": [
    "# Run 21324 -  225 G with 60 mm base separation"
   ]
  },
  {
   "cell_type": "code",
   "execution_count": 15,
   "metadata": {},
   "outputs": [],
   "source": [
    "path_to_21324 = '/Users/emmanuelmacb/Library/CloudStorage/OneDrive-WestVirginiaUniversity/1 - Active Projects/1.01 - Fluid Simulations/1.01A - Fluid Project Updates/rundata/run213_24'\n",
    "os.chdir(path_to_21324)"
   ]
  },
  {
   "cell_type": "code",
   "execution_count": null,
   "metadata": {},
   "outputs": [],
   "source": [
    "dt_21324 = 9.99e-5 # time-step\n",
    "frames_21324 = np.arange(563) # 562 movies in total\n",
    "t_21324 = np.empty(563, dtype=float) # preallocating time array"
   ]
  },
  {
   "cell_type": "code",
   "execution_count": null,
   "metadata": {},
   "outputs": [],
   "source": [
    "noutmov1 = 30 # 30 is for the 0 to 500 frames\n",
    "noutmov2 = 120 # 120 is for the last 62 frames from 501 to 562."
   ]
  },
  {
   "cell_type": "code",
   "execution_count": 18,
   "metadata": {},
   "outputs": [],
   "source": [
    "t_21324[0:501] = frames_21324[0:501]*noutmov1*dt_21324\n",
    "t_21324[501:563] = t_21324[500] + frames_21324[1:63]*noutmov2*dt_21324"
   ]
  },
  {
   "cell_type": "code",
   "execution_count": 19,
   "metadata": {},
   "outputs": [],
   "source": [
    "# save the time array to a .npy file\n",
    "np.save('time_21324.npy', t_21324)"
   ]
  },
  {
   "cell_type": "markdown",
   "metadata": {},
   "source": [
    "# Run 214 -  150 G with 60 mm base separation"
   ]
  },
  {
   "cell_type": "code",
   "execution_count": 20,
   "metadata": {},
   "outputs": [],
   "source": [
    "path_to_214 = '/Users/emmanuelmacb/Library/CloudStorage/OneDrive-WestVirginiaUniversity/1 - Active Projects/1.01 - Fluid Simulations/1.01A - Fluid Project Updates/rundata/run214'\n",
    "os.chdir(path_to_214)"
   ]
  },
  {
   "cell_type": "code",
   "execution_count": 22,
   "metadata": {},
   "outputs": [],
   "source": [
    "dt_214 = 1.49e-4 # time step\n",
    "frames_214 = np.arange(751) #750 movies in total\n",
    "t_214 = np.empty(751, dtype=float) # preallocating time array"
   ]
  },
  {
   "cell_type": "code",
   "execution_count": 23,
   "metadata": {},
   "outputs": [],
   "source": [
    "noutmov = 20 # 20 is for all 750 frames"
   ]
  },
  {
   "cell_type": "code",
   "execution_count": 24,
   "metadata": {},
   "outputs": [],
   "source": [
    "t_214 = frames_214*noutmov*dt_214"
   ]
  },
  {
   "cell_type": "code",
   "execution_count": 25,
   "metadata": {},
   "outputs": [],
   "source": [
    "# save the time array to a .npy file\n",
    "np.save('time_214.npy', t_214)"
   ]
  },
  {
   "cell_type": "markdown",
   "metadata": {},
   "source": [
    "# Run 215 -  150 G with 60 mm base separation"
   ]
  },
  {
   "cell_type": "code",
   "execution_count": 26,
   "metadata": {},
   "outputs": [],
   "source": [
    "path_to_215 = '/Users/emmanuelmacb/Library/CloudStorage/OneDrive-WestVirginiaUniversity/1 - Active Projects/1.01 - Fluid Simulations/1.01A - Fluid Project Updates/rundata/run215'\n",
    "os.chdir(path_to_215)"
   ]
  },
  {
   "cell_type": "code",
   "execution_count": null,
   "metadata": {},
   "outputs": [],
   "source": [
    "dt_215 = 2.12e-4 # time step\n",
    "#All 0 to 1018 movies are produced every 14 time-steps for total of 15000 time-steps\n",
    "frames_215 = np.arange(1019) # 1019 movies in total\n",
    "t_215 = np.empty(1019, dtype=float) # preallocating time array"
   ]
  },
  {
   "cell_type": "code",
   "execution_count": 28,
   "metadata": {},
   "outputs": [],
   "source": [
    "noutmov = 14 # for all 1019 frames"
   ]
  },
  {
   "cell_type": "code",
   "execution_count": 29,
   "metadata": {},
   "outputs": [],
   "source": [
    "t_215 = frames_215*noutmov*dt_215"
   ]
  },
  {
   "cell_type": "code",
   "execution_count": 30,
   "metadata": {},
   "outputs": [],
   "source": [
    "# save the time array to a .npy file\n",
    "np.save('time_215.npy', t_215)"
   ]
  },
  {
   "cell_type": "markdown",
   "metadata": {},
   "source": [
    "# Run 216 -  0 G with 60 mm base separation"
   ]
  },
  {
   "cell_type": "code",
   "execution_count": 31,
   "metadata": {},
   "outputs": [],
   "source": [
    "path_to_216 = '/Users/emmanuelmacb/Library/CloudStorage/OneDrive-WestVirginiaUniversity/1 - Active Projects/1.01 - Fluid Simulations/1.01A - Fluid Project Updates/rundata/run216'\n",
    "os.chdir(path_to_216)"
   ]
  },
  {
   "cell_type": "code",
   "execution_count": 32,
   "metadata": {},
   "outputs": [],
   "source": [
    "dt_216 = 6.07e-4 # time step\n",
    "#All 0 to 2237 movies are produced every 4 time-steps for total of 10000 time-steps\n",
    "frames_216 = np.arange(2238) # 2238 movies in total\n",
    "t_216 = np.empty(2238, dtype=float) # preallocating time array"
   ]
  },
  {
   "cell_type": "code",
   "execution_count": null,
   "metadata": {},
   "outputs": [],
   "source": [
    "noutmov = 4 # for all 2238 frames"
   ]
  },
  {
   "cell_type": "code",
   "execution_count": 33,
   "metadata": {},
   "outputs": [],
   "source": [
    "t_216 = frames_216*noutmov*dt_216"
   ]
  },
  {
   "cell_type": "code",
   "execution_count": 34,
   "metadata": {},
   "outputs": [],
   "source": [
    "# save the time array to a .npy file\n",
    "np.save('time_216.npy', t_216)"
   ]
  },
  {
   "cell_type": "code",
   "execution_count": null,
   "metadata": {},
   "outputs": [],
   "source": []
  }
 ],
 "metadata": {
  "kernelspec": {
   "display_name": "phy",
   "language": "python",
   "name": "python3"
  },
  "language_info": {
   "codemirror_mode": {
    "name": "ipython",
    "version": 3
   },
   "file_extension": ".py",
   "mimetype": "text/x-python",
   "name": "python",
   "nbconvert_exporter": "python",
   "pygments_lexer": "ipython3",
   "version": "3.12.2"
  }
 },
 "nbformat": 4,
 "nbformat_minor": 2
}
